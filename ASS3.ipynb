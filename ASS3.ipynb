{
  "nbformat": 4,
  "nbformat_minor": 0,
  "metadata": {
    "colab": {
      "name": "ASS3",
      "provenance": [],
      "collapsed_sections": [],
      "include_colab_link": true
    },
    "kernelspec": {
      "display_name": "Python 3",
      "name": "python3"
    }
  },
  "cells": [
    {
      "cell_type": "markdown",
      "metadata": {
        "id": "view-in-github",
        "colab_type": "text"
      },
      "source": [
        "<a href=\"https://colab.research.google.com/github/z1065384049/UTS_ML2019_ID12782886/blob/master/ASS3.ipynb\" target=\"_parent\"><img src=\"https://colab.research.google.com/assets/colab-badge.svg\" alt=\"Open In Colab\"/></a>"
      ]
    },
    {
      "cell_type": "markdown",
      "metadata": {
        "id": "3udEDSsPanVo",
        "colab_type": "text"
      },
      "source": [
        "**PROJECT TITLE** ‘Food consultant’"
      ]
    },
    {
      "cell_type": "markdown",
      "metadata": {
        "id": "sieJmez4aps_",
        "colab_type": "text"
      },
      "source": [
        "**AIMS** Help people understand the nutritional information of food\n",
        "\n",
        "objectives:\n",
        "*  Give dietary advice that is based on the best scientific evidence on food and health\n",
        "*  Give special dietary advice based on people's different health conditions\n",
        "*  Integrated food adverse events and product complaint reports\n",
        "\n",
        "\n",
        "\n"
      ]
    },
    {
      "cell_type": "markdown",
      "metadata": {
        "id": "q3DF11rcbM38",
        "colab_type": "text"
      },
      "source": [
        "**BACKGROUND**\n",
        "\n",
        "Healthy eating has become a concern for many people in their daily lives, and if you want to achieve a  healthy diet, it is essential to understand the nutrients in food. There are still some difficulties, such as people want to know what vitamins are lacking in the food they eat in a day, and whether the calories in the three meals are reasonable.\n",
        "The purpose of this project is to develop an AI product that analyzes food and gives appropriate dietary advice to different groups of people. In the project, we will record information on common food nutrition on the market, collect food-related adverse reactions and product complaint reports. In terms of use, users only need to record what they ate, and AI will automatically record the nutrients. We will choose a powerful model to customize reasonable recipes based on user preferences (types). Through model analysis, and then the system and database for comparison, nutrition data visualization, generate information, you can grasp and control your own nutrition and diet. In addition, when the user selects the same type of food, the model can also match the best brand of food based on user feedback. We refer to this product as a 'food consultant' that guides users on the path to a healthy diet. "
      ]
    },
    {
      "cell_type": "markdown",
      "metadata": {
        "id": "sZW0DlGKe3Lr",
        "colab_type": "text"
      },
      "source": [
        "**RESEARCH PROJECT**\n",
        "\n",
        "In this project, the significance is:\n",
        "\n",
        "\n",
        "1.   Help people eat healthy and reduce the risk of diet-related diseases such as high cholesterol, high blood pressure and obesity;\n",
        "2.   According to different screening conditions, to meet different health needs (such as: weight loss, fitness, high blood pressure, allergies, etc.)\n",
        "3.   Collect and integrate user feedback, document adverse reactions, help food manufacturers, and researchers improve products.\n",
        "\n",
        "Why do we need this project:\n",
        "\n",
        "A healthy diet improves quality of life and wellbeing, and protects against chronic diseases. For infants and children, good nutrition is essential for normal growth.\n",
        "An unhealthy diet can cause illness or even death. One-fifth of the world’s deaths today are caused by unhealthy diets. This can happen if people eat less fruits, vegetables, and beans and instead consume too much sugar, high fat, or high-salt foods. So a healthy diet is very important.\n",
        "Companies need to provide safe, nutritious food choices to help people achieve a healthy diet. This means developing a nutritious new product that limits the amount of fat, sugar and salt in existing foods for the sake of public health.\n",
        "\n",
        "In this project, the aspects of innovation are:\n",
        "\n",
        "According to the user's screening, the data can be analyzed to intelligently match the best diet formula. Help people understand the nutrients of food and solve some problems, such as: how much sugar, protein, carbohydrates, what else I need to eat today, and so on. In addition, I am very interested in the data on the adverse reactions caused by eating some foods. Through the analysis of these data, I can find out which kinds of foods are often complained by people, which brands are most popular/unpopular with people. \n",
        "\n",
        "How to solve the problem:\n",
        "\n",
        "1.   Looking for datasets, find data about global foods from ‘The Open Food Facts database’. Open Food Facts is a free, open, collaborative database of food products from around the world, with ingredients, allergens, nutrition facts and all the tidbits of information we can find on product labels. Data on adverse food reactions were obtained from the Australian and New Zealand Food Standards Authority.\n",
        "2.   Processing the missing value and outliers\n",
        "3.   Feature scaling and transformation, Generate test and validation data\n",
        "4.   Build the model (Clustering of product types)\n",
        "\n",
        "The Gaussian Mixture Model\n",
        "\n",
        "After obtaining data such as carbohydrates, sugar, fat, etc., the food is classified (recommended/not recommended), and classification depends on other factors, which becomes a clustering problem. The Gaussian mixture model is a widely used clustering algorithm that uses a Gaussian distribution as a parametric model and uses the expected maximum Expectation Maximization algorithm for training.\n",
        "\n",
        "In this project, it is assumed that food is divided into several categories: pasta, cereals, vegetables, fruits, meat, candy, dairy products, and beans. Now the gaussian mixture model describes the following: Each of our latent variable, each of these product categories, causes one multivariate gaussian, this is a normal distribution over more than one dimension. We have least these features: carbohydrates, sugars, fat, proteins, energy and salt. Consequently our feature dimension is equally (or with feature engineering) higher than 6 and the gaussians are located in this > 6 dimensional room. These gaussians try to cover the data structure and you take as many gaussians as you assume product categories.\n",
        "\n",
        "Then our distribution p(x)p(x) of data we observe is said to be generated by these gaussians:\n",
        "p(x)=∑k=1Kπk⋅N(x|μk,Σk)\n",
        "\n",
        "Then each gaussian is somehow responsible that a single data spot is placed where it is. One gaussian may be more responsible than the others but they are all working in a mixture to explain your data. During learning all of these ellipsoid clusters are moving in space and varying their shape trying to match perfectly the distributed data p(x)p(x). The learning procedure for models with latent variables is the expectation maximization. This algorithm works in two consecutive steps that are repeated until all gaussians only have found their place and would only show slight changes in further steps.\n",
        "5.   Evaluation\n",
        "\n",
        "\n"
      ]
    },
    {
      "cell_type": "markdown",
      "metadata": {
        "id": "beX3bkiLfMu0",
        "colab_type": "text"
      },
      "source": [
        "**ESTIMATED TIMELINE**\n",
        "\n",
        "![替代文字](https://raw.githubusercontent.com/z1065384049/UTS_ML2019_ID12782886/master/timeline.png)"
      ]
    },
    {
      "cell_type": "markdown",
      "metadata": {
        "id": "iSd-zhxriGIa",
        "colab_type": "text"
      },
      "source": [
        "**OUTCOME**\n",
        "\n",
        "Help people choose healthy foods and improve people's quality of life. Reduce the incidence of diseases in the diet. Investors can advertise in the user interface, and if the user is interested in advertising products, they can purchase the item through the link. In addition, users can pay for some advanced features, such as professional nutritionist recommendations, which can also bring benefits to investors."
      ]
    },
    {
      "cell_type": "markdown",
      "metadata": {
        "id": "tNjSoDUQiZv3",
        "colab_type": "text"
      },
      "source": [
        "**BUDGET**\n",
        "\n",
        "Total: 40w AUD\n",
        "\n",
        "Include:\n",
        "\n",
        "Labor costs: 32w AUD\n",
        "\n",
        "Venue rental: 3w AUD\n",
        "\n",
        "Office material expenditure: 1w AUD\n",
        "\n",
        "Server, domain name, IT base fee: 4w AUD"
      ]
    },
    {
      "cell_type": "markdown",
      "metadata": {
        "id": "_r_aAEWfil0r",
        "colab_type": "text"
      },
      "source": [
        "**PERSONNEL**\n",
        "\n",
        "Project manager: 2\n",
        "\n",
        "Data engineer: 4\n",
        "\n",
        "Interaction Designer:2\n",
        "\n",
        "UI designer:1\n",
        "\n",
        "Java engineer / back-end engineer:4\n",
        "\n",
        "Testers:2"
      ]
    },
    {
      "cell_type": "markdown",
      "metadata": {
        "id": "7-mIY60Xiwar",
        "colab_type": "text"
      },
      "source": [
        "**REFERENCES**\n",
        "\n",
        "Eatforhealth.gov.au. (2019). About the Australian Dietary Guidelines | Eat For Health. [online] Available at: https://www.eatforhealth.gov.au/guidelines/about-australian-dietary-guidelines [Accessed 6 Oct. 2019].\n",
        "\n",
        "Hunter, D., Richards, D. and Rosenberger, J. (2011). Nonparametric Statistics and Mixture Models. Singapore: World Scientific.\n",
        "\n",
        "Kulkarni, S. and Desai, S. (2018). Classifying Exoplanets with Gaussian Mixture Model. The Open Journal of Astrophysics, 1(1)."
      ]
    },
    {
      "cell_type": "markdown",
      "metadata": {
        "id": "LzbTdfgltS2v",
        "colab_type": "text"
      },
      "source": [
        "**VIDEO PITCH**\n",
        "\n",
        "https://youtu.be/0dabw2sTvuY"
      ]
    }
  ]
}